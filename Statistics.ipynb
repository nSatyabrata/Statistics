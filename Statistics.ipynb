{
 "cells": [
  {
   "cell_type": "code",
   "execution_count": 1,
   "metadata": {},
   "outputs": [],
   "source": [
    "import matplotlib.pyplot as plt\n",
    "import seaborn as sns\n",
    "import pandas as pd\n",
    "import random, statistics\n",
    "import numpy as np\n",
    "from scipy import stats\n",
    "from statsmodels.stats import weightstats, proportion, oneway\n",
    "from statsmodels.stats.multicomp  import pairwise_tukeyhsd"
   ]
  },
  {
   "cell_type": "markdown",
   "metadata": {},
   "source": [
    "## Descriptive statstics"
   ]
  },
  {
   "cell_type": "code",
   "execution_count": 2,
   "metadata": {},
   "outputs": [
    {
     "data": {
      "text/plain": [
       "100"
      ]
     },
     "execution_count": 2,
     "metadata": {},
     "output_type": "execute_result"
    }
   ],
   "source": [
    "random.seed(9)\n",
    "\n",
    "x = [random.randint(1, 101) for _ in range(100)]\n",
    "len(x)"
   ]
  },
  {
   "cell_type": "code",
   "execution_count": 3,
   "metadata": {},
   "outputs": [
    {
     "name": "stdout",
     "output_type": "stream",
     "text": [
      "Mean : 46.17\n",
      "Median : 44.0\n",
      "Mode : 26\n"
     ]
    }
   ],
   "source": [
    "print(\"Mean :\", statistics.mean(x))\n",
    "print(\"Median :\", statistics.median(x))\n",
    "print(\"Mode :\", statistics.mode(x))"
   ]
  },
  {
   "cell_type": "code",
   "execution_count": 4,
   "metadata": {
    "scrolled": true
   },
   "outputs": [
    {
     "name": "stdout",
     "output_type": "stream",
     "text": [
      "Range : 99\n",
      "Standard deviation for sample : 31.21\n",
      "Variance : 974.34\n",
      "Quantiles : [18.0, 44.0, 75.0]\n",
      "IQR : 57.0\n"
     ]
    }
   ],
   "source": [
    "# dispersion \n",
    "print(\"Range :\", max(x) - min(x))\n",
    "print(\"Standard deviation for sample :\", round(statistics.stdev(x),2))\n",
    "print(\"Variance :\", round(statistics.variance(x),2))\n",
    "print(\"Quantiles :\", statistics.quantiles(x))\n",
    "print(\"IQR :\", statistics.quantiles(x)[2] - statistics.quantiles(x)[0])"
   ]
  },
  {
   "cell_type": "code",
   "execution_count": 5,
   "metadata": {},
   "outputs": [
    {
     "data": {
      "image/png": "[encoded data removed]",
      "text/plain": [
       "<Figure size 432x288 with 1 Axes>"
      ]
     },
     "metadata": {
      "needs_background": "light"
     },
     "output_type": "display_data"
    }
   ],
   "source": [
    "# boxplot\n",
    "sns.boxplot(x=x)\n",
    "plt.show()"
   ]
  },
  {
   "cell_type": "markdown",
   "metadata": {},
   "source": [
    "## Probability Distributions"
   ]
  },
  {
   "cell_type": "markdown",
   "metadata": {},
   "source": [
    "#### Binomial Distribution :\n",
    "A **binomial experiment** has the following properties:\n",
    "- The experiment consistsof n repeated trials.\n",
    "- Each trial can result in just two possible outcomes. We call one of these outcomes a success and the other, a failure.\n",
    "- The probability of success, denoted by p, is the same on every trail.\n",
    "- The trials are independent;that is, the outcome on one trial does not affect the outcome on the other trials.\n",
    "- The mean of distribution is n.p\n",
    "- The variance is n.p.(1-p)\n",
    "- The standard deviation is sqrt(n.p.(1-p))"
   ]
  },
  {
   "cell_type": "code",
   "execution_count": 6,
   "metadata": {},
   "outputs": [
    {
     "data": {
      "image/png": "[encoded data removed]",
      "text/plain": [
       "<Figure size 432x288 with 1 Axes>"
      ]
     },
     "metadata": {
      "needs_background": "light"
     },
     "output_type": "display_data"
    }
   ],
   "source": [
    "# binomial distribution\n",
    "# two coins 1000 times\n",
    "two_coins = np.random.binomial(2, 0.5, 1000)\n",
    "sns.countplot(x=two_coins)\n",
    "plt.show()"
   ]
  },
  {
   "cell_type": "code",
   "execution_count": 7,
   "metadata": {},
   "outputs": [
    {
     "data": {
      "image/png": "[encoded data removed]",
      "text/plain": [
       "<Figure size 432x288 with 1 Axes>"
      ]
     },
     "metadata": {
      "needs_background": "light"
     },
     "output_type": "display_data"
    }
   ],
   "source": [
    "# ten coins 1000 times\n",
    "ten_coins = np.random.binomial(10, 0.5, 1000)\n",
    "sns.countplot(x=ten_coins)\n",
    "plt.show()"
   ]
  },
  {
   "cell_type": "code",
   "execution_count": 8,
   "metadata": {},
   "outputs": [
    {
     "name": "stdout",
     "output_type": "stream",
     "text": [
      "Probability of getting exact 3 heads : 0.25\n",
      "Probability of getting atleast 3 heads : 0.17\n",
      "Probability of getting atleast 4 heads : 0.38\n",
      "Probability of getting 7 or more heads : 0.17\n"
     ]
    }
   ],
   "source": [
    "# Flipping 10 coins\n",
    "# probability of getting exact 5 heads \n",
    "print(\"Probability of getting exact 3 heads :\", round(stats.binom.pmf(5, 10, 0.5),2))\n",
    "\n",
    "# probability of getting atleast 3 heads\n",
    "print(\"Probability of getting atleast 3 heads :\", round(stats.binom.cdf(3, 10, 0.5),2))\n",
    "\n",
    "# probability of getting atleast 4 heads\n",
    "print(\"Probability of getting atleast 4 heads :\", round(stats.binom.cdf(4, 10, 0.5),2))\n",
    "\n",
    "# probability of getting 7 or more heads\n",
    "print(\"Probability of getting 7 or more heads :\", round(1 - stats.binom.cdf(6, 10, 0.5),2))"
   ]
  },
  {
   "cell_type": "markdown",
   "metadata": {},
   "source": [
    "##### Example :\n",
    "**A manufacturer has 12% defects rate in production. The buyer decides to test 20 random pieces and will accept the supplier if there are 2 or less defectives. What is the probability if getting accepted ?***"
   ]
  },
  {
   "cell_type": "code",
   "execution_count": 9,
   "metadata": {},
   "outputs": [
    {
     "name": "stdout",
     "output_type": "stream",
     "text": [
      "Probability of getting accepted is : 0.56\n"
     ]
    }
   ],
   "source": [
    "print(f\"Probability of getting accepted is : {round(stats.binom.cdf(2, 20, 0.12), 2)}\")"
   ]
  },
  {
   "cell_type": "code",
   "execution_count": 10,
   "metadata": {},
   "outputs": [
    {
     "data": {
      "image/png": "[encoded data removed]",
      "text/plain": [
       "<Figure size 432x288 with 1 Axes>"
      ]
     },
     "metadata": {
      "needs_background": "light"
     },
     "output_type": "display_data"
    }
   ],
   "source": [
    "# probability mass function (pmf) plot\n",
    "x_ax = np.arange(0,21)\n",
    "y_ax = stats.binom.pmf(x_ax, 20, 0.12)\n",
    "\n",
    "sns.barplot(x=x_ax, y=y_ax)\n",
    "plt.show()"
   ]
  },
  {
   "cell_type": "code",
   "execution_count": 11,
   "metadata": {},
   "outputs": [
    {
     "data": {
      "image/png": "[encoded data removed]",
      "text/plain": [
       "<Figure size 432x288 with 1 Axes>"
      ]
     },
     "metadata": {
      "needs_background": "light"
     },
     "output_type": "display_data"
    }
   ],
   "source": [
    "# cumulative distribution function (cdf) plot \n",
    "x_ax = np.arange(0,21)\n",
    "y_ax = stats.binom.cdf(x_ax, 20, 0.12)\n",
    "\n",
    "sns.barplot(x=x_ax, y=y_ax)\n",
    "plt.show()"
   ]
  },
  {
   "cell_type": "markdown",
   "metadata": {},
   "source": [
    "### Binomial vs Poisson Distribution\n",
    "- Similarities:\n",
    "    - Both are for discrete distribution\n",
    "    - Both measure the number of successes\n",
    "- Differences:\n",
    "    - In Poisson distribution the possibilites of success are infinite.\n",
    "\n",
    "- **A Poisson experiment** has the following properties:\n",
    "    - The experiment results in outcomes that can be classified as successes or failures.\n",
    "    - The average number of successes that occurs in a specified region is known.\n",
    "    - Outcomes are random. Occurrence of one outcome does not influence the chance of another outcome of interest.\n",
    "    - **The outcomes of interest are rare relative to the possible outcomes.**\n",
    "        - Example : Road accidents, que at the counter"
   ]
  },
  {
   "cell_type": "code",
   "execution_count": 12,
   "metadata": {},
   "outputs": [
    {
     "data": {
      "image/png": "[encoded data removed]",
      "text/plain": [
       "<Figure size 432x288 with 1 Axes>"
      ]
     },
     "metadata": {},
     "output_type": "display_data"
    }
   ],
   "source": [
    "# poisson distribution\n",
    "\n",
    "# Ex: on a booking counter on the average 3.6 people come every 10 min. on weekends.\n",
    "# Below is the count distribution based on that for 1000 sample.\n",
    "queue_size = np.random.poisson(3.6, 1000)\n",
    "\n",
    "sns.set_theme(style='whitegrid')\n",
    "sns.countplot(x=queue_size)\n",
    "plt.show()"
   ]
  },
  {
   "cell_type": "code",
   "execution_count": 13,
   "metadata": {},
   "outputs": [
    {
     "name": "stdout",
     "output_type": "stream",
     "text": [
      "Probability of 7 people on queue in 10 minutes : 0.042\n"
     ]
    }
   ],
   "source": [
    "# probability of 7 people on queue in 10 minutes where 3.6 people come every 10 min.\n",
    "print(\"Probability of 7 people on queue in 10 minutes :\", round(stats.poisson.pmf(7, 3.6),3))"
   ]
  },
  {
   "cell_type": "code",
   "execution_count": 14,
   "metadata": {},
   "outputs": [
    {
     "data": {
      "image/png": "[encoded data removed]",
      "text/plain": [
       "<Figure size 432x288 with 1 Axes>"
      ]
     },
     "metadata": {},
     "output_type": "display_data"
    }
   ],
   "source": [
    "# probability mass function (pmf) plot\n",
    "x_ax = np.arange(0,11)\n",
    "y_ax = stats.poisson.pmf(x_ax, 3.6)\n",
    "\n",
    "sns.barplot(x=x_ax, y=y_ax)\n",
    "plt.show()"
   ]
  },
  {
   "cell_type": "code",
   "execution_count": 15,
   "metadata": {},
   "outputs": [
    {
     "data": {
      "image/png": "[encoded data removed]",
      "text/plain": [
       "<Figure size 432x288 with 1 Axes>"
      ]
     },
     "metadata": {},
     "output_type": "display_data"
    }
   ],
   "source": [
    "# cumulative distribution function (cdf) plot \n",
    "x_ax = np.arange(0,11)\n",
    "y_ax = stats.poisson.cdf(x_ax, 3.6)\n",
    "\n",
    "sns.barplot(x=x_ax, y=y_ax)\n",
    "plt.show()"
   ]
  },
  {
   "cell_type": "markdown",
   "metadata": {},
   "source": [
    "### Normal distribution:\n",
    "- Symmetrically distributed.\n",
    "- Long Tails / Bell Shaped.\n",
    "- Mean/ Mode and Median are same.\n",
    "- About 68% of the area under the curve falls within **1 standard deviation** of the mean.\n",
    "- About 95% of the area under the curve falls within **2 standard deviation** of the mean.\n",
    "- About 99.7% of the area under the curve falls within **3 standard deviation** of the mean.\n",
    "- Total area under the normal curve = 1.\n",
    "- The probability of any particular value is 0.\n",
    "- The probability that X is greater than or less than a value = area under the normal curve in that direction."
   ]
  },
  {
   "cell_type": "code",
   "execution_count": 16,
   "metadata": {},
   "outputs": [
    {
     "data": {
      "image/png": "[encoded data removed]",
      "text/plain": [
       "<Figure size 432x288 with 1 Axes>"
      ]
     },
     "metadata": {},
     "output_type": "display_data"
    }
   ],
   "source": [
    "# Plot of 100000 samples where mean is 100 and standard deviation is 2.\n",
    "a = np.random.normal(100, 2, 100000)\n",
    "sns.histplot(x=a, kde=True)\n",
    "plt.show()"
   ]
  },
  {
   "cell_type": "markdown",
   "metadata": {},
   "source": [
    "##### Ex: \n",
    "**Perfume bottles are filled with average volume of 150 cc and the standard deviation of 2 cc. What percent of bottles will have a volume greater than 153 cc?**"
   ]
  },
  {
   "cell_type": "code",
   "execution_count": 17,
   "metadata": {},
   "outputs": [
    {
     "name": "stdout",
     "output_type": "stream",
     "text": [
      "6.68 % of bottles will have a volume greater than 153 cc.\n"
     ]
    }
   ],
   "source": [
    "print(f\"{round(stats.norm.sf(153, 150 ,2)*100, 2)} % of bottles will have a volume greater than 153 cc.\")"
   ]
  },
  {
   "cell_type": "markdown",
   "metadata": {},
   "source": [
    "##### Example: \n",
    "**Perfume bottles are filled with average volume of 150 cc and the standard deviation of 2 cc. What percent of bottles will have a volume between 148 and 152 cc?**"
   ]
  },
  {
   "cell_type": "code",
   "execution_count": 18,
   "metadata": {},
   "outputs": [
    {
     "name": "stdout",
     "output_type": "stream",
     "text": [
      "68.27 % of bottles will have a volume between 148 and 152 cc.\n"
     ]
    }
   ],
   "source": [
    "print(f\"{round((stats.norm.sf(148, 150 ,2) - stats.norm.sf(152, 150, 2))*100, 2)} % of bottles will have a volume between 148 and 152 cc.\")"
   ]
  },
  {
   "cell_type": "code",
   "execution_count": 19,
   "metadata": {},
   "outputs": [
    {
     "data": {
      "image/png": "[encoded data removed]",
      "text/plain": [
       "<Figure size 432x288 with 1 Axes>"
      ]
     },
     "metadata": {},
     "output_type": "display_data"
    }
   ],
   "source": [
    "# Normal distribution plot\n",
    "x_ax = np.linspace(144, 156, 100)\n",
    "y_ax = stats.norm.pdf(x_ax, 150, 2)\n",
    "\n",
    "sns.lineplot(x=x_ax, y=y_ax)\n",
    "plt.axvline(153, color = 'red')\n",
    "plt.show()"
   ]
  },
  {
   "cell_type": "markdown",
   "metadata": {},
   "source": [
    "## Inferential Statistics and Hypothesis Testing"
   ]
  },
  {
   "cell_type": "markdown",
   "metadata": {},
   "source": [
    "### Central limit theorem\n",
    "- The Central Limit Theorem states that the sampling distribution of the sample means approaches a normal distribution as the sample size gets larger — no matter what the shape of the population distribution. \n",
    "- An essential component of the Central Limit Theorem is that the **average of your sample means will be the population mean**."
   ]
  },
  {
   "cell_type": "code",
   "execution_count": 20,
   "metadata": {},
   "outputs": [
    {
     "data": {
      "text/plain": [
       "<AxesSubplot:ylabel='Count'>"
      ]
     },
     "execution_count": 20,
     "metadata": {},
     "output_type": "execute_result"
    },
    {
     "data": {
      "image/png": "[encoded data removed]",
      "text/plain": [
       "<Figure size 432x288 with 1 Axes>"
      ]
     },
     "metadata": {},
     "output_type": "display_data"
    }
   ],
   "source": [
    "# rolling a dice 1000000 times\n",
    "one_million_dice = np.random.randint(1, 7, 1000000)\n",
    "sns.histplot(x= one_million_dice, bins=6)"
   ]
  },
  {
   "cell_type": "code",
   "execution_count": 21,
   "metadata": {},
   "outputs": [
    {
     "name": "stdout",
     "output_type": "stream",
     "text": [
      "Population mean of rolling a dice one million times is 3.5\n",
      "Population standard deviation of rolling a dice one million times is 1.71\n"
     ]
    }
   ],
   "source": [
    "# population mean \n",
    "print(f\"Population mean of rolling a dice one million times is {round(np.mean(one_million_dice), 2)}\")\n",
    "\n",
    "# population standard deviation \n",
    "print(f\"Population standard deviation of rolling a dice one million times is {round(np.std(one_million_dice), 2)}\")"
   ]
  },
  {
   "cell_type": "code",
   "execution_count": 22,
   "metadata": {},
   "outputs": [
    {
     "data": {
      "text/plain": [
       "<seaborn.axisgrid.FacetGrid at 0x7fbb16bba560>"
      ]
     },
     "execution_count": 22,
     "metadata": {},
     "output_type": "execute_result"
    },
    {
     "data": {
      "image/png": "[encoded data removed]",
      "text/plain": [
       "<Figure size 360x360 with 1 Axes>"
      ]
     },
     "metadata": {},
     "output_type": "display_data"
    }
   ],
   "source": [
    "# creating a sample of 100\n",
    "sample_100 = one_million_dice.reshape(100, 10000)\n",
    "sample_means = np.mean(sample_100, axis = 0)\n",
    "\n",
    "sns.displot(x= sample_means, kind='kde')"
   ]
  },
  {
   "cell_type": "code",
   "execution_count": 23,
   "metadata": {},
   "outputs": [
    {
     "name": "stdout",
     "output_type": "stream",
     "text": [
      "Sample mean is 3.5\n"
     ]
    }
   ],
   "source": [
    "# Sample mean (should be equal to population mean)\n",
    "print(f\"Sample mean is {round(np.mean(sample_means), 2)}\")"
   ]
  },
  {
   "cell_type": "code",
   "execution_count": 24,
   "metadata": {},
   "outputs": [
    {
     "name": "stdout",
     "output_type": "stream",
     "text": [
      "Sample standard deviation using sample means is 0.17\n",
      "Population standard deviation : 1.71\n",
      "Sample size : 100\n",
      "Sample standard deviation using population standard deviation is 0.17\n"
     ]
    }
   ],
   "source": [
    "# Sample standard deviation\n",
    "print(f\"Sample standard deviation using sample means is {round(np.std(sample_means), 2)}\")\n",
    "\n",
    "# Population standard deviation\n",
    "population_std = np.std(one_million_dice)\n",
    "print(f\"Population standard deviation : {round(population_std, 2)}\")\n",
    "\n",
    "# No. of sample\n",
    "sample_size = 100\n",
    "print(f\"Sample size : {sample_size}\")\n",
    "\n",
    "# Sample mean from population standard deviation:\n",
    "sample_std = population_std/np.sqrt(sample_size)\n",
    "\n",
    "print(f\"Sample standard deviation using population standard deviation is {round(sample_std, 2)}\")"
   ]
  },
  {
   "cell_type": "markdown",
   "metadata": {},
   "source": [
    "### Hypothesis Testing\n",
    "- A **statstical hypothesis** test is a method of statistical inference.\n",
    "- Commonly use test include:\n",
    "    - Compare sample statstic with the population parameter.\n",
    "    - Compare two datasets\n",
    "\n",
    "#### Steps in Hypothesis Testing:\n",
    "1. State the Alternate Hypothesis.\n",
    "2. State the Null Hypothesis.\n",
    "3. Select a probability if error level (alpha level). Generally 0.05.\n",
    "4. Calculate the test statistic (e.g t or z score).\n",
    "5. Critical test statistic.\n",
    "6. Interpret the results."
   ]
  },
  {
   "cell_type": "markdown",
   "metadata": {},
   "source": [
    "#### Hypothesis Testing - Errors :\n",
    "\n",
    "|**Basis of Difference**|**Type I Error**|**Type II Error**|\n",
    "|:--- |:--- |:--- |\n",
    "|Occurrence|A type I error occurs when the null hypothesis is true but is rejected. In other words, if a true null hypothesis is incorrectly rejected, type I error occurs.|A type II error occurs when the null hypothesis is false but invalidly fails to be rejected. In other words, failure to reject a false null hypothesis results in type II error.|\n",
    "|Comparison|A type I error also known as False positive.|A type II error also known as False negative. It is also known as false null hypothesis.|\n",
    "|Designation|The probability that we will make a type I error is designated ‘α’ (alpha). Therefore, type I error is also known as alpha error|Probability that we will make a type II error is designated ‘β’ (beta). Therefore, type II error is also known as beta error.|\n",
    "|Probability of committing error|Type I error equals to the level of significance (α).<br><br>‘α’ is the so-called p-value.|Type II error equals to the statistical power of a test.<br><br>The probability 1- ‘β’ is called the statistical power of the study.|\n",
    "|Represents|Type I error represents ‘a false hit’.|Type II error represents ‘a miss’.|\n",
    "|Nature|We may reject the null hypothesis when the null hypothesis is true is known as Type I error.|We may accept the null hypothesis, when in fact null hypothesis is not true is known as Type II error.|\n",
    "|Importance|Type I errors are generally considered more serious.|Type II errors are given less preference.|\n",
    "|Acceptance|It refers to non-acceptance of hypothesis, which ought to be accepted.|It refers to the acceptance of hypothesis, which ought to be rejected.|\n",
    "|Consequence|The probability of Type I error reduces with lower values of (α) since the lower value makes it difficult to reject null hypothesis.|The probability of Type II error reduces with higher values of (α) since the higher value makes it easier to reject the null hypothesis.|\n"
   ]
  },
  {
   "cell_type": "markdown",
   "metadata": {},
   "source": [
    "#### p Value :\n",
    "- p value is the lowest value of alpha for which the null hypothesis can be rejected. (Probability that the null hypothesis is correct)"
   ]
  },
  {
   "cell_type": "markdown",
   "metadata": {},
   "source": [
    "## One Sample tests"
   ]
  },
  {
   "cell_type": "markdown",
   "metadata": {},
   "source": [
    "### One Sample z Test\n",
    "##### Conditions for z Test\n",
    "- Random Samples\n",
    "- Each observation should be independent of other\n",
    "    - Sampling with replacement\n",
    "    - If sampling without replacement, the sample size should not be more than 10% of populatin\n",
    "- Sampling distribution approximates Normal Distribution\n",
    "    - Population is Normally distributed and the population standard deviation is known or \n",
    "    - Sample size >= 30"
   ]
  },
  {
   "cell_type": "markdown",
   "metadata": {},
   "source": [
    "##### Example 1:\n",
    "**A machine is producing perfume bottles with the long term average of 150cc and the standard deviation of 2 cc. Four bottles were picked and the average volume was found to be 153.8cc. Has the average volume changed from 150cc? Test with 95% confidence level.**"
   ]
  },
  {
   "cell_type": "code",
   "execution_count": 25,
   "metadata": {},
   "outputs": [
    {
     "name": "stdout",
     "output_type": "stream",
     "text": [
      "Z calucated is 3.8\n",
      "Left critical Z is -1.96\n",
      "Right critical Z is 1.96\n",
      "Reject null hypothesis\n"
     ]
    }
   ],
   "source": [
    "# Alternate Hypothesis: Mean volume != 150cc\n",
    "# Null Hypothesis: Mean volume = 150cc\n",
    "# Alpha = 1 - 0.95 = 0.05\n",
    "# z calculated = (observed mean - population mean) / standard error \n",
    "# z = (x - µ) / (σ / √n)\n",
    "\n",
    "z_cal = (153.8 - 150) / (2 / np.sqrt(4))\n",
    "print(\"Z calucated is\", round(z_cal, 2))\n",
    "\n",
    "# left critical z value\n",
    "z_critical_left = stats.norm.ppf(0.025)\n",
    "print(\"Left critical Z is\", round(z_critical_left,2))\n",
    "\n",
    "# right critical z value\n",
    "z_critical_right = stats.norm.isf(0.025)\n",
    "print(\"Right critical Z is\", round(z_critical_right,2))\n",
    "\n",
    "if z_critical_left <= z_cal and z_cal <= z_critical_right:\n",
    "    print(\"Failed to reject null hypothesis\")\n",
    "else:\n",
    "    print(\"Reject null hypothesis\")"
   ]
  },
  {
   "cell_type": "code",
   "execution_count": 26,
   "metadata": {},
   "outputs": [
    {
     "name": "stdout",
     "output_type": "stream",
     "text": [
      "Reject null hypothesis\n"
     ]
    }
   ],
   "source": [
    "# using p value\n",
    "p_value = 2 * stats.norm.sf(z_cal)\n",
    "\n",
    "# significance check\n",
    "if p_value >= 0.05:\n",
    "    print(\"Failed to reject null hypothesis\")\n",
    "else:\n",
    "    print(\"Reject null hypothesis\")"
   ]
  },
  {
   "cell_type": "markdown",
   "metadata": {},
   "source": [
    "##### Example 2:"
   ]
  },
  {
   "cell_type": "code",
   "execution_count": 27,
   "metadata": {},
   "outputs": [],
   "source": [
    "df = pd.read_csv('./data/Machine1.csv')"
   ]
  },
  {
   "cell_type": "code",
   "execution_count": 28,
   "metadata": {},
   "outputs": [
    {
     "data": {
      "text/html": [
       "<div>\n",
       "<style scoped>\n",
       "    .dataframe tbody tr th:only-of-type {\n",
       "        vertical-align: middle;\n",
       "    }\n",
       "\n",
       "    .dataframe tbody tr th {\n",
       "        vertical-align: top;\n",
       "    }\n",
       "\n",
       "    .dataframe thead th {\n",
       "        text-align: right;\n",
       "    }\n",
       "</style>\n",
       "<table border=\"1\" class=\"dataframe\">\n",
       "  <thead>\n",
       "    <tr style=\"text-align: right;\">\n",
       "      <th></th>\n",
       "      <th>Machine 1</th>\n",
       "    </tr>\n",
       "  </thead>\n",
       "  <tbody>\n",
       "    <tr>\n",
       "      <th>0</th>\n",
       "      <td>152.63</td>\n",
       "    </tr>\n",
       "    <tr>\n",
       "      <th>1</th>\n",
       "      <td>152.94</td>\n",
       "    </tr>\n",
       "    <tr>\n",
       "      <th>2</th>\n",
       "      <td>151.29</td>\n",
       "    </tr>\n",
       "    <tr>\n",
       "      <th>3</th>\n",
       "      <td>153.44</td>\n",
       "    </tr>\n",
       "    <tr>\n",
       "      <th>4</th>\n",
       "      <td>148.58</td>\n",
       "    </tr>\n",
       "  </tbody>\n",
       "</table>\n",
       "</div>"
      ],
      "text/plain": [
       "   Machine 1\n",
       "0     152.63\n",
       "1     152.94\n",
       "2     151.29\n",
       "3     153.44\n",
       "4     148.58"
      ]
     },
     "execution_count": 28,
     "metadata": {},
     "output_type": "execute_result"
    }
   ],
   "source": [
    "df.head()"
   ]
  },
  {
   "cell_type": "code",
   "execution_count": 29,
   "metadata": {},
   "outputs": [
    {
     "data": {
      "text/html": [
       "<div>\n",
       "<style scoped>\n",
       "    .dataframe tbody tr th:only-of-type {\n",
       "        vertical-align: middle;\n",
       "    }\n",
       "\n",
       "    .dataframe tbody tr th {\n",
       "        vertical-align: top;\n",
       "    }\n",
       "\n",
       "    .dataframe thead th {\n",
       "        text-align: right;\n",
       "    }\n",
       "</style>\n",
       "<table border=\"1\" class=\"dataframe\">\n",
       "  <thead>\n",
       "    <tr style=\"text-align: right;\">\n",
       "      <th></th>\n",
       "      <th>Machine 1</th>\n",
       "    </tr>\n",
       "  </thead>\n",
       "  <tbody>\n",
       "    <tr>\n",
       "      <th>count</th>\n",
       "      <td>100.000000</td>\n",
       "    </tr>\n",
       "    <tr>\n",
       "      <th>mean</th>\n",
       "      <td>150.203100</td>\n",
       "    </tr>\n",
       "    <tr>\n",
       "      <th>std</th>\n",
       "      <td>2.018812</td>\n",
       "    </tr>\n",
       "    <tr>\n",
       "      <th>min</th>\n",
       "      <td>145.550000</td>\n",
       "    </tr>\n",
       "    <tr>\n",
       "      <th>25%</th>\n",
       "      <td>148.717500</td>\n",
       "    </tr>\n",
       "    <tr>\n",
       "      <th>50%</th>\n",
       "      <td>150.285000</td>\n",
       "    </tr>\n",
       "    <tr>\n",
       "      <th>75%</th>\n",
       "      <td>151.502500</td>\n",
       "    </tr>\n",
       "    <tr>\n",
       "      <th>max</th>\n",
       "      <td>154.550000</td>\n",
       "    </tr>\n",
       "  </tbody>\n",
       "</table>\n",
       "</div>"
      ],
      "text/plain": [
       "        Machine 1\n",
       "count  100.000000\n",
       "mean   150.203100\n",
       "std      2.018812\n",
       "min    145.550000\n",
       "25%    148.717500\n",
       "50%    150.285000\n",
       "75%    151.502500\n",
       "max    154.550000"
      ]
     },
     "execution_count": 29,
     "metadata": {},
     "output_type": "execute_result"
    }
   ],
   "source": [
    "df.describe()"
   ]
  },
  {
   "cell_type": "code",
   "execution_count": 30,
   "metadata": {},
   "outputs": [
    {
     "data": {
      "text/plain": [
       "<seaborn.axisgrid.FacetGrid at 0x7fbb14980c70>"
      ]
     },
     "execution_count": 30,
     "metadata": {},
     "output_type": "execute_result"
    },
    {
     "data": {
      "image/png": "[encoded data removed]",
      "text/plain": [
       "<Figure size 360x360 with 1 Axes>"
      ]
     },
     "metadata": {},
     "output_type": "display_data"
    }
   ],
   "source": [
    "sns.displot(data=df, x='Machine 1')"
   ]
  },
  {
   "cell_type": "code",
   "execution_count": 31,
   "metadata": {},
   "outputs": [
    {
     "data": {
      "text/plain": [
       "<seaborn.axisgrid.FacetGrid at 0x7fbb14982a10>"
      ]
     },
     "execution_count": 31,
     "metadata": {},
     "output_type": "execute_result"
    },
    {
     "data": {
      "image/png": "[encoded data removed]",
      "text/plain": [
       "<Figure size 360x360 with 1 Axes>"
      ]
     },
     "metadata": {},
     "output_type": "display_data"
    }
   ],
   "source": [
    "sns.catplot(data=df, y='Machine 1', kind='box')"
   ]
  },
  {
   "cell_type": "code",
   "execution_count": 32,
   "metadata": {},
   "outputs": [
    {
     "name": "stdout",
     "output_type": "stream",
     "text": [
      "Calculated z value is 1.01\n",
      "p value is 0.31\n"
     ]
    }
   ],
   "source": [
    "# One sample z test :\n",
    "# value(mean) : 150\n",
    "# two sided test\n",
    "z_cal, p_value = weightstats.ztest(x1 = df['Machine 1'], value = 150, alternative='two-sided')\n",
    "\n",
    "print(f\"Calculated z value is {round(z_cal, 2)}\")\n",
    "print(f\"p value is {round(p_value, 2)}\")"
   ]
  },
  {
   "cell_type": "code",
   "execution_count": 33,
   "metadata": {},
   "outputs": [
    {
     "name": "stdout",
     "output_type": "stream",
     "text": [
      "Calculated z value is 1.01\n",
      "p value is 0.16\n"
     ]
    }
   ],
   "source": [
    "# One sample z test :\n",
    "# value(mean) : 150\n",
    "# one sided test(larger)\n",
    "z_cal, p_value = weightstats.ztest(x1 = df['Machine 1'], value = 150, alternative='larger')\n",
    "\n",
    "print(f\"Calculated z value is {round(z_cal, 2)}\")\n",
    "print(f\"p value is {round(p_value, 2)}\")"
   ]
  },
  {
   "cell_type": "markdown",
   "metadata": {},
   "source": [
    "### One Sample t Test\n",
    "##### Conditions for t Test\n",
    "- Random Samples\n",
    "- Each observation should be independent of other\n",
    "    - Sampling with replacement\n",
    "    - If sampling without replacement, the sample size should not be more than 10% of populatin\n",
    "- Sampling distribution approximates Normal Distribution\n",
    "    - Population is Normally distributed and the population standard deviation is unknown and \n",
    "    - Sample size < 30"
   ]
  },
  {
   "cell_type": "markdown",
   "metadata": {},
   "source": [
    "##### Example :\n",
    "**Perfume bottle producing 150cc, 4 bottles are randomly picked and the average volume was found to be 151cc and sd of the sample bottles was 2 cc. Has mean volume changed? (95% confidence)**"
   ]
  },
  {
   "cell_type": "code",
   "execution_count": 34,
   "metadata": {},
   "outputs": [
    {
     "name": "stdout",
     "output_type": "stream",
     "text": [
      "Calculated t value is 1.0\n",
      "p value is 0.39\n"
     ]
    }
   ],
   "source": [
    "# One sample t test :\n",
    "# value(mean) : 150\n",
    "# two sided test\n",
    "\n",
    "# volume of 4 sample bottles\n",
    "volume = pd.Series([148.5, 153.4, 150.9, 151.2])\n",
    "\n",
    "result = stats.ttest_1samp(volume, 150)\n",
    "\n",
    "print(f\"Calculated t value is {round(result[0], 2)}\")\n",
    "print(f\"p value is {round(result[1], 2)}\")"
   ]
  },
  {
   "cell_type": "markdown",
   "metadata": {},
   "source": [
    "**As p value is greater than 0.05 thus failed to reject the null hypothesis.**"
   ]
  },
  {
   "cell_type": "markdown",
   "metadata": {},
   "source": [
    "### One Proportion Test\n",
    "##### Conditions for One Proportion Test\n",
    "- Random Samples\n",
    "- Each observation should be independent of other\n",
    "    - Sampling with replacement\n",
    "    - If sampling without replacement, the sample size should not be more than 10% of populatin\n",
    "- The data contains only two categories, such as pass/fail or yes/no\n",
    "- For Normal approximation:\n",
    "    - both np>=10 and n(1-p)>=10 (data should have at least 10 \"successes\" and at leasr 10 \"failures\") (it can be 5 also)"
   ]
  },
  {
   "cell_type": "markdown",
   "metadata": {},
   "source": [
    "##### Example :\n",
    "**Smoking rate in a town in past was 21%, 100 samples were picked and found 14 smokers. Has smoking habit changed?**"
   ]
  },
  {
   "cell_type": "code",
   "execution_count": 35,
   "metadata": {},
   "outputs": [
    {
     "data": {
      "text/html": [
       "<div>\n",
       "<style scoped>\n",
       "    .dataframe tbody tr th:only-of-type {\n",
       "        vertical-align: middle;\n",
       "    }\n",
       "\n",
       "    .dataframe tbody tr th {\n",
       "        vertical-align: top;\n",
       "    }\n",
       "\n",
       "    .dataframe thead th {\n",
       "        text-align: right;\n",
       "    }\n",
       "</style>\n",
       "<table border=\"1\" class=\"dataframe\">\n",
       "  <thead>\n",
       "    <tr style=\"text-align: right;\">\n",
       "      <th></th>\n",
       "      <th>Name</th>\n",
       "      <th>Smokers</th>\n",
       "    </tr>\n",
       "  </thead>\n",
       "  <tbody>\n",
       "    <tr>\n",
       "      <th>0</th>\n",
       "      <td>Person 1</td>\n",
       "      <td>No</td>\n",
       "    </tr>\n",
       "    <tr>\n",
       "      <th>1</th>\n",
       "      <td>Person 2</td>\n",
       "      <td>No</td>\n",
       "    </tr>\n",
       "    <tr>\n",
       "      <th>2</th>\n",
       "      <td>Person 3</td>\n",
       "      <td>No</td>\n",
       "    </tr>\n",
       "    <tr>\n",
       "      <th>3</th>\n",
       "      <td>Person 4</td>\n",
       "      <td>Yes</td>\n",
       "    </tr>\n",
       "    <tr>\n",
       "      <th>4</th>\n",
       "      <td>Person 5</td>\n",
       "      <td>No</td>\n",
       "    </tr>\n",
       "  </tbody>\n",
       "</table>\n",
       "</div>"
      ],
      "text/plain": [
       "       Name Smokers\n",
       "0  Person 1      No\n",
       "1  Person 2      No\n",
       "2  Person 3      No\n",
       "3  Person 4     Yes\n",
       "4  Person 5      No"
      ]
     },
     "execution_count": 35,
     "metadata": {},
     "output_type": "execute_result"
    }
   ],
   "source": [
    "df = pd.read_csv(\"./data/Smokers.csv\")\n",
    "df.head()"
   ]
  },
  {
   "cell_type": "code",
   "execution_count": 36,
   "metadata": {},
   "outputs": [
    {
     "data": {
      "text/html": [
       "<div>\n",
       "<style scoped>\n",
       "    .dataframe tbody tr th:only-of-type {\n",
       "        vertical-align: middle;\n",
       "    }\n",
       "\n",
       "    .dataframe tbody tr th {\n",
       "        vertical-align: top;\n",
       "    }\n",
       "\n",
       "    .dataframe thead th {\n",
       "        text-align: right;\n",
       "    }\n",
       "</style>\n",
       "<table border=\"1\" class=\"dataframe\">\n",
       "  <thead>\n",
       "    <tr style=\"text-align: right;\">\n",
       "      <th></th>\n",
       "      <th>Name</th>\n",
       "    </tr>\n",
       "    <tr>\n",
       "      <th>Smokers</th>\n",
       "      <th></th>\n",
       "    </tr>\n",
       "  </thead>\n",
       "  <tbody>\n",
       "    <tr>\n",
       "      <th>No</th>\n",
       "      <td>86</td>\n",
       "    </tr>\n",
       "    <tr>\n",
       "      <th>Yes</th>\n",
       "      <td>14</td>\n",
       "    </tr>\n",
       "  </tbody>\n",
       "</table>\n",
       "</div>"
      ],
      "text/plain": [
       "         Name\n",
       "Smokers      \n",
       "No         86\n",
       "Yes        14"
      ]
     },
     "execution_count": 36,
     "metadata": {},
     "output_type": "execute_result"
    }
   ],
   "source": [
    "df.groupby('Smokers').count()"
   ]
  },
  {
   "cell_type": "code",
   "execution_count": 37,
   "metadata": {},
   "outputs": [
    {
     "name": "stdout",
     "output_type": "stream",
     "text": [
      "Z calculated is -1.72\n",
      "Failed to reject null hypothesis.\n"
     ]
    }
   ],
   "source": [
    "p_0, p, n = 0.21, 0.14, 100\n",
    "# np_0 = 0.21 * 100\n",
    "# n(1 - p_0) = 0.79 * 100,\n",
    "# sample size >= 10\n",
    "# z = (p - p_0) / sqrt((p_0 * (1 - p_0)) / n)\n",
    "# This method is based on approximation\n",
    "\n",
    "z_cal = (p - p_0) / np.sqrt((p_0 * (1 - p_0)) / n)\n",
    "print(f\"Z calculated is {round(z_cal, 2)}\")\n",
    "\n",
    "# as alpha is 0.05 with two tailed test, so z critical will be -1.96 and 1.96\n",
    "if z_cal >= -1.96 and z_cal <= 1.96:\n",
    "    print(\"Failed to reject null hypothesis.\")\n",
    "else:\n",
    "    print(\"Reject null hypothesis\")"
   ]
  },
  {
   "cell_type": "code",
   "execution_count": 38,
   "metadata": {},
   "outputs": [
    {
     "name": "stdout",
     "output_type": "stream",
     "text": [
      "BinomTestResult(k=14, n=100, alternative='two-sided', proportion_estimate=0.14, pvalue=0.10920815720825927)\n",
      "p value for above scenario is 0.11.\n"
     ]
    }
   ],
   "source": [
    "result = stats.binomtest(14, 100, p=0.21)\n",
    "print(result)\n",
    "print(f\"p value for above scenario is {round(result.pvalue, 2)}.\")"
   ]
  },
  {
   "cell_type": "code",
   "execution_count": 39,
   "metadata": {},
   "outputs": [
    {
     "name": "stdout",
     "output_type": "stream",
     "text": [
      "BinomTestResult(k=14, n=100, alternative='less', proportion_estimate=0.14, pvalue=0.05042460221552124)\n",
      "p value for this scenario is 0.05.\n"
     ]
    }
   ],
   "source": [
    "# same scenario but aiternative hypothesis is smoking habit has decreased.\n",
    "result = stats.binomtest(14, 100, p=0.21, alternative='less')\n",
    "print(result)\n",
    "print(f\"p value for this scenario is {round(result.pvalue, 2)}.\")"
   ]
  },
  {
   "cell_type": "markdown",
   "metadata": {},
   "source": [
    "### One Variance Test\n",
    "##### Conditions for One Variance Test\n",
    "- Random Samples\n",
    "- Each observation should be independent of other\n",
    "    - Sampling with replacement\n",
    "    - If sampling without replacement, the sample size should not be more than 10% of populatin\n",
    "- The data follows a **Normal Distribution**.\n",
    "\n",
    "#### Variance Tests\n",
    "- **Chi-square test**\n",
    "    - For testing the population variance against a specified value.\n",
    "    - testing goodness of fit of some probability distribution.\n",
    "    - testing for independence of two attributes (Contingency Tables)\n",
    "- **F-test**\n",
    "    - for testing equality of two variances from different populations\n",
    "    - for testing equality of several means with technique of ANOVA"
   ]
  },
  {
   "cell_type": "markdown",
   "metadata": {},
   "source": [
    "##### Example :\n",
    "**A sample of 51 bottles was selected. The standard deviation of these 51 bottles was 1.35cc. Has it increased from the established 2cc? (90% confidence level).**"
   ]
  },
  {
   "cell_type": "code",
   "execution_count": 40,
   "metadata": {},
   "outputs": [
    {
     "data": {
      "text/plain": [
       "<seaborn.axisgrid.FacetGrid at 0x7fbb16c69960>"
      ]
     },
     "execution_count": 40,
     "metadata": {},
     "output_type": "execute_result"
    },
    {
     "data": {
      "image/png": "[encoded data removed]",
      "text/plain": [
       "<Figure size 360x360 with 1 Axes>"
      ]
     },
     "metadata": {},
     "output_type": "display_data"
    }
   ],
   "source": [
    "x_ax = np.linspace(0, 100 ,101)\n",
    "y_ax = stats.chi2.pdf(x_ax, df=50)\n",
    "sns.relplot(x=x_ax,y=y_ax, kind='line')"
   ]
  },
  {
   "cell_type": "code",
   "execution_count": 41,
   "metadata": {},
   "outputs": [
    {
     "name": "stdout",
     "output_type": "stream",
     "text": [
      "Chi square calculated : 69.03\n",
      "Critical value : 63.17\n",
      "Reject null hypothesis\n"
     ]
    }
   ],
   "source": [
    "# chi_square_calculated = (n-1)s^2 / sigma^2\n",
    "chi_sq_cal = (51-1)*(2.35**2) / (2**2)\n",
    "print(f\"Chi square calculated : {round(chi_sq_cal, 2)}\")\n",
    "\n",
    "# right side area in distribution is equal to 0.10\n",
    "critical_value = stats.chi2.isf(0.10, 50)\n",
    "print(f\"Critical value : {round(critical_value, 2)}\")\n",
    "\n",
    "# significance check\n",
    "if chi_sq_cal > critical_value:\n",
    "    print(\"Reject null hypothesis\")\n",
    "else:\n",
    "    print(\"Failed to reject null hypothesis\")"
   ]
  },
  {
   "cell_type": "markdown",
   "metadata": {},
   "source": [
    "## Two Samples tests"
   ]
  },
  {
   "cell_type": "markdown",
   "metadata": {},
   "source": [
    "### Two Sample Z test\n",
    "##### Conditions for z Test\n",
    "- Random Samples\n",
    "- Each observation should be independent of other\n",
    "    - Sampling with replacement\n",
    "    - If sampling without replacement, the sample size should not be more than 10% of populatin\n",
    "- Sampling distribution approximates Normal Distribution\n",
    "    - Population is Normally distributed and the population standard deviation is known or \n",
    "    - Sample size >= 30"
   ]
  },
  {
   "cell_type": "markdown",
   "metadata": {},
   "source": [
    "##### Example :\n",
    "**From two machines 100 samples each were drawn. Is there difference in these two machines. Check at 95% confidence level.**"
   ]
  },
  {
   "cell_type": "code",
   "execution_count": 42,
   "metadata": {},
   "outputs": [
    {
     "data": {
      "text/html": [
       "<div>\n",
       "<style scoped>\n",
       "    .dataframe tbody tr th:only-of-type {\n",
       "        vertical-align: middle;\n",
       "    }\n",
       "\n",
       "    .dataframe tbody tr th {\n",
       "        vertical-align: top;\n",
       "    }\n",
       "\n",
       "    .dataframe thead th {\n",
       "        text-align: right;\n",
       "    }\n",
       "</style>\n",
       "<table border=\"1\" class=\"dataframe\">\n",
       "  <thead>\n",
       "    <tr style=\"text-align: right;\">\n",
       "      <th></th>\n",
       "      <th>Volume</th>\n",
       "      <th>Machine</th>\n",
       "    </tr>\n",
       "  </thead>\n",
       "  <tbody>\n",
       "    <tr>\n",
       "      <th>0</th>\n",
       "      <td>154.27</td>\n",
       "      <td>Machine 1</td>\n",
       "    </tr>\n",
       "    <tr>\n",
       "      <th>1</th>\n",
       "      <td>150.03</td>\n",
       "      <td>Machine 1</td>\n",
       "    </tr>\n",
       "    <tr>\n",
       "      <th>2</th>\n",
       "      <td>151.14</td>\n",
       "      <td>Machine 1</td>\n",
       "    </tr>\n",
       "    <tr>\n",
       "      <th>3</th>\n",
       "      <td>145.47</td>\n",
       "      <td>Machine 1</td>\n",
       "    </tr>\n",
       "    <tr>\n",
       "      <th>4</th>\n",
       "      <td>149.71</td>\n",
       "      <td>Machine 1</td>\n",
       "    </tr>\n",
       "  </tbody>\n",
       "</table>\n",
       "</div>"
      ],
      "text/plain": [
       "   Volume    Machine\n",
       "0  154.27  Machine 1\n",
       "1  150.03  Machine 1\n",
       "2  151.14  Machine 1\n",
       "3  145.47  Machine 1\n",
       "4  149.71  Machine 1"
      ]
     },
     "execution_count": 42,
     "metadata": {},
     "output_type": "execute_result"
    }
   ],
   "source": [
    "df = pd.read_csv(\"./data/Two+Machines.csv\")\n",
    "df.head()"
   ]
  },
  {
   "cell_type": "code",
   "execution_count": 43,
   "metadata": {},
   "outputs": [
    {
     "data": {
      "text/plain": [
       "<AxesSubplot:xlabel='Machine', ylabel='Volume'>"
      ]
     },
     "execution_count": 43,
     "metadata": {},
     "output_type": "execute_result"
    },
    {
     "data": {
      "image/png": "[encoded data removed]",
      "text/plain": [
       "<Figure size 432x288 with 1 Axes>"
      ]
     },
     "metadata": {},
     "output_type": "display_data"
    }
   ],
   "source": [
    "sns.boxplot(data=df, x='Machine', y='Volume')"
   ]
  },
  {
   "cell_type": "code",
   "execution_count": 44,
   "metadata": {},
   "outputs": [],
   "source": [
    "# making different series for machine 1 and 2\n",
    "machine_1 = df[df['Machine'] == 'Machine 1']['Volume']\n",
    "machine_2 = df[df['Machine'] == 'Machine 2']['Volume']"
   ]
  },
  {
   "cell_type": "code",
   "execution_count": 45,
   "metadata": {},
   "outputs": [
    {
     "name": "stdout",
     "output_type": "stream",
     "text": [
      "Z calculated : -2.19\n",
      "p value : 0.03\n"
     ]
    }
   ],
   "source": [
    "# calculating p value\n",
    "z_cal, p_value = weightstats.ztest(machine_1, machine_2)\n",
    "print(f\"Z calculated : {round(z_cal, 2)}\")\n",
    "print(f\"p value : {round(p_value, 2)}\")"
   ]
  },
  {
   "cell_type": "markdown",
   "metadata": {},
   "source": [
    "**As p value is less than 0.05 thus reject the null hypothesis.\n",
    "So we can conclude these two machines are different.**"
   ]
  },
  {
   "cell_type": "markdown",
   "metadata": {},
   "source": [
    "### Two Samples t Test\n",
    "##### Conditions for t Test\n",
    "- Random Samples\n",
    "- Each observation should be independent of other\n",
    "    - Sampling with replacement\n",
    "    - If sampling without replacement, the sample size should not be more than 10% of populatin\n",
    "- Sampling distribution approximates Normal Distribution\n",
    "    - Population is Normally distributed and the population standard deviation is unknown and \n",
    "    - Sample size < 30\n",
    "    \n",
    "- **Two sample t test** : If the samples are independent.\n",
    "- **Paired t test** : If the samples are dependent."
   ]
  },
  {
   "cell_type": "markdown",
   "metadata": {},
   "source": [
    "##### Example :\n",
    "**Samples fromtwo machines A and B have the following volumes in bottles (assume equal variance). Is the mean different? Calculate with 95% confidence.**\n",
    "- Machine A : 150, 152, 154, 152, 151\n",
    "- Machine B : 156, 155, 158, 155, 154"
   ]
  },
  {
   "cell_type": "code",
   "execution_count": 46,
   "metadata": {},
   "outputs": [],
   "source": [
    "machine_A = [150, 152, 154, 152, 151]\n",
    "machine_B = [156, 155, 158, 155, 154]"
   ]
  },
  {
   "cell_type": "code",
   "execution_count": 47,
   "metadata": {},
   "outputs": [
    {
     "name": "stdout",
     "output_type": "stream",
     "text": [
      "t calculated : -4.006\n",
      "p value : 0.004\n"
     ]
    }
   ],
   "source": [
    "# assuming equal variance\n",
    "t_cal, p_value = stats.ttest_ind(machine_A, machine_B, equal_var=True)\n",
    "print(f\"t calculated : {round(t_cal, 3)}\")\n",
    "print(f\"p value : {round(p_value, 3)}\")"
   ]
  },
  {
   "cell_type": "markdown",
   "metadata": {},
   "source": [
    "**As p value is less than 0.05 thus reject the null hypothesis.**"
   ]
  },
  {
   "cell_type": "markdown",
   "metadata": {},
   "source": [
    "##### Example :\n",
    "**Samples fromtwo machines A and B have the following volumes in bottles (assume unequal variance). Is the mean different? Calculate with 95% confidence.**\n",
    "- Machine A : 150, 152, 154, 152, 151\n",
    "- Machine C : 144, 162, 177, 150, 140"
   ]
  },
  {
   "cell_type": "code",
   "execution_count": 48,
   "metadata": {},
   "outputs": [],
   "source": [
    "machine_A = [150, 152, 154, 152, 151]\n",
    "machine_C = [144, 162, 177, 150, 140]"
   ]
  },
  {
   "cell_type": "code",
   "execution_count": 49,
   "metadata": {},
   "outputs": [
    {
     "name": "stdout",
     "output_type": "stream",
     "text": [
      "t calculated : -0.41\n",
      "p value : 0.7\n"
     ]
    }
   ],
   "source": [
    "# assuming variances are not equal\n",
    "t_cal, p_value = stats.ttest_ind(machine_A, machine_C, equal_var=False)\n",
    "print(f\"t calculated : {round(t_cal, 2)}\")\n",
    "print(f\"p value : {round(p_value, 2)}\")"
   ]
  },
  {
   "cell_type": "markdown",
   "metadata": {},
   "source": [
    "**As p value is greater than 0.05 thus failed to reject the null hypothesis which is two machines are same.**"
   ]
  },
  {
   "cell_type": "markdown",
   "metadata": {},
   "source": [
    "### Paired t Test\n",
    "\n",
    "##### Example :\n",
    "**Before and after medicine BP was measured. Is there a difference at 95% confidence level?**\n",
    "- Before : 120, 122, 143, 100, 109\n",
    "- After : 122, 120, 141, 109, 109"
   ]
  },
  {
   "cell_type": "code",
   "execution_count": 50,
   "metadata": {},
   "outputs": [],
   "source": [
    "bp_before = [120, 122, 143, 100, 109]\n",
    "bp_after = [122, 120, 141, 109, 109]"
   ]
  },
  {
   "cell_type": "code",
   "execution_count": 51,
   "metadata": {},
   "outputs": [
    {
     "name": "stdout",
     "output_type": "stream",
     "text": [
      "t calculated : -0.686\n",
      "p value : 0.53\n"
     ]
    }
   ],
   "source": [
    "# paired t test\n",
    "t_cal, p_value = stats.ttest_rel(bp_before, bp_after)\n",
    "print(f\"t calculated : {round(t_cal, 3)}\")\n",
    "print(f\"p value : {round(p_value, 3)}\")"
   ]
  },
  {
   "cell_type": "markdown",
   "metadata": {},
   "source": [
    "**As p value is greater than 0.05 thus failed to reject the null hypothesis.**"
   ]
  },
  {
   "cell_type": "markdown",
   "metadata": {},
   "source": [
    "### Two Proportion Test\n",
    "##### Conditions for Two Proportion Test\n",
    "- Random Samples\n",
    "- Each observation should be independent of other\n",
    "    - Sampling with replacement\n",
    "    - If sampling without replacement, the sample size should not be more than 10% of populatin\n",
    "- The data contains only two categories, such as pass/fail or yes/no\n",
    "- For Normal approximation:\n",
    "    - both np>=10 and n(1-p)>=10 (data should have at least 10 \"successes\" and at leasr 10 \"failures\") **for each sample** (it can be 5 also)"
   ]
  },
  {
   "cell_type": "markdown",
   "metadata": {},
   "source": [
    "##### Example :\n",
    "**From vendor A we test 200 pieces and find 30 defectives. From vendor B we test 100 pieces and we find 10 defectives. Is there a significant difference in the quantity of these two vendors ? use 95% confidence level.**"
   ]
  },
  {
   "cell_type": "code",
   "execution_count": 52,
   "metadata": {},
   "outputs": [
    {
     "data": {
      "text/plain": [
       "<class 'statsmodels.stats.base.HolderTuple'>\n",
       "statistic = 1.1989578808281796\n",
       "pvalue = 0.2305443235633593\n",
       "compare = 'diff'\n",
       "method = 'score'\n",
       "variance = 0.001739130434782609\n",
       "alternative = 'two-sided'\n",
       "prop1_null = 0.13333333333333333\n",
       "prop2_null = 0.13333333333333333\n",
       "tuple = (1.1989578808281796, 0.2305443235633593)\n",
       "diff = 0.04999999999999999\n",
       "ratio = 1.4999999999999998\n",
       "odds_ratio = 1.588235294117647\n",
       "value = 0"
      ]
     },
     "execution_count": 52,
     "metadata": {},
     "output_type": "execute_result"
    }
   ],
   "source": [
    "# using proportiont test from statsmodel library\n",
    "proportion.test_proportions_2indep(30, 200, 10, 100, method='score')"
   ]
  },
  {
   "cell_type": "markdown",
   "metadata": {},
   "source": [
    "**As p value is greater than 0.05 thus failed to reject the null hypothesis. So we can conclude there is no significant difference.**"
   ]
  },
  {
   "cell_type": "markdown",
   "metadata": {},
   "source": [
    "### Two Variance Test\n",
    "##### Conditions for Two Variance Test\n",
    "- Random Samples\n",
    "- Each observation should be independent of other\n",
    "    - Sampling with replacement\n",
    "    - If sampling without replacement, the sample size should not be more than 10% of populatin\n",
    "- The data follows a **Normal Distribution**.\n",
    "\n",
    "#### Variance Tests\n",
    "- **Chi-square test**\n",
    "    - For testing the population variance against a specified value.\n",
    "    - testing goodness of fit of some probability distribution.\n",
    "    - testing for independence of two attributes (Contingency Tables)\n",
    "- **F-test**\n",
    "    - for testing equality of two variances from different populations\n",
    "    - for testing equality of several means with technique of ANOVA"
   ]
  },
  {
   "cell_type": "markdown",
   "metadata": {},
   "source": [
    "##### Example :\n",
    "**We took 8 samples from machine A and the standard deviation was 1.1. For machine B we took 5 samples and the variance was 11. Is there a difference in variance at 90% confidence level?**"
   ]
  },
  {
   "cell_type": "code",
   "execution_count": 53,
   "metadata": {},
   "outputs": [
    {
     "name": "stdout",
     "output_type": "stream",
     "text": [
      "F calculated is 9.09\n",
      "Critical value at right is 4.12\n",
      "Critical value at left is 0.16\n",
      "There is significance difference in variance.\n"
     ]
    }
   ],
   "source": [
    "# f is ratio of two variance\n",
    "f_cal = 11/(1.1 ** 2)\n",
    "print(f\"F calculated is {round(f_cal, 2)}\")\n",
    "\n",
    "# calculating right critical value\n",
    "critical_right = stats.f.isf(0.05, 4, 7)\n",
    "print(f\"Critical value at right is {round(critical_right, 2)}\")\n",
    "\n",
    "# calculating left critical value\n",
    "critical_left = stats.f.isf(0.95, 4, 7)\n",
    "print(f\"Critical value at left is {round(critical_left, 2)}\")\n",
    "\n",
    "# significance check\n",
    "if f_cal >= critical_left and f_cal <= critical_right:\n",
    "    print(\"There is no difference in variance.\")\n",
    "else:\n",
    "    print(\"There is significance difference in variance.\")"
   ]
  },
  {
   "cell_type": "code",
   "execution_count": 54,
   "metadata": {},
   "outputs": [
    {
     "name": "stdout",
     "output_type": "stream",
     "text": [
      "Standard deviation for machin A is 1.17\n",
      "Standard deviation for machin B is 10.93\n",
      "p value : 0.0\n"
     ]
    }
   ],
   "source": [
    "# using barlett test from scipy.stats (assumption is these samples are normally distributed)\n",
    "m1 = [150, 150, 151, 148, 151, 152, 149, 150]\n",
    "m2 = [135, 152, 154, 169, 157]\n",
    "\n",
    "print(f\"Standard deviation for machin A is {round(np.std(m1), 2)}\")\n",
    "print(f\"Standard deviation for machin B is {round(np.std(m2), 2)}\")\n",
    "\n",
    "p_value =  stats.bartlett(m1, m2).pvalue\n",
    "print(f\"p value : {round(p_value, 4)}\")"
   ]
  },
  {
   "cell_type": "code",
   "execution_count": 55,
   "metadata": {},
   "outputs": [
    {
     "name": "stdout",
     "output_type": "stream",
     "text": [
      "Standard deviation for machin A is 1.17\n",
      "Standard deviation for machin B is 10.93\n",
      "p value : 0.04\n"
     ]
    }
   ],
   "source": [
    "# using levene test from scipy.stats (doesn't assume anything so more robust)\n",
    "print(f\"Standard deviation for machin A is {round(np.std(m1), 2)}\")\n",
    "print(f\"Standard deviation for machin B is {round(np.std(m2), 2)}\")\n",
    "\n",
    "p_value =  stats.levene(m1, m2).pvalue\n",
    "print(f\"p value : {round(p_value, 2)}\")"
   ]
  },
  {
   "cell_type": "markdown",
   "metadata": {},
   "source": [
    "**As p value is less than 0.05 thus rejected the null hypothesis.**"
   ]
  },
  {
   "cell_type": "markdown",
   "metadata": {},
   "source": [
    "### Anova (Analysis of Variance)\n",
    "- It is a statistical hypothesis test that determines whether the means of at least two populations are different. At a minimum, you need a continuous dependent variable and a categorical independent variable that divides your data into comparison groups to perform ANOVA.\n",
    "\n",
    "$$\n",
    "    F = \\frac{\\frac{SS_{between}}{df_{between}}}{\\frac{SS_{within}}{df_{within}}} = \\frac{MSS_{between}}{MSS_{within}}\n",
    "$$\n",
    "\n",
    " \n",
    "- In **ANOVA**, we use one tail test only.\n",
    "- If no true variance exists between the groups, the ANOVA's **F-ratio** should equal close to 1."
   ]
  },
  {
   "cell_type": "markdown",
   "metadata": {},
   "source": [
    "##### Example :\n",
    "- Null hypothesis: Means of three machines A, B and C are equal.\n",
    "- Alternative hypothesis : Means are not equal.\n",
    "(Check at 95% confidence level)"
   ]
  },
  {
   "cell_type": "code",
   "execution_count": 56,
   "metadata": {},
   "outputs": [],
   "source": [
    "machine_A = [150, 151, 152, 152, 151, 150]\n",
    "machine_B = [153, 152, 148, 151, 149, 152]\n",
    "machine_C = [156, 154, 155, 156, 157, 155]"
   ]
  },
  {
   "cell_type": "code",
   "execution_count": 57,
   "metadata": {},
   "outputs": [
    {
     "name": "stdout",
     "output_type": "stream",
     "text": [
      "F statistics is 22.26\n",
      "p value is 0.0\n"
     ]
    }
   ],
   "source": [
    "# anova test one way using scipy\n",
    "F_statistic, p_value = stats.f_oneway(machine_A, machine_B, machine_C)\n",
    "print(f\"F statistics is {round(F_statistic, 2)}\")\n",
    "print(f\"p value is {round(p_value, 2)}\")"
   ]
  },
  {
   "cell_type": "code",
   "execution_count": 58,
   "metadata": {},
   "outputs": [
    {
     "data": {
      "text/plain": [
       "<class 'statsmodels.stats.base.HolderTuple'>\n",
       "statistic = 22.264705882352892\n",
       "pvalue = 3.237408550907782e-05\n",
       "df = (2.0, 15.0)\n",
       "df_num = 2.0\n",
       "df_denom = 15.0\n",
       "nobs_t = 18.0\n",
       "n_groups = 3\n",
       "means = array([151.        , 150.83333333, 155.5       ])\n",
       "nobs = array([6., 6., 6.])\n",
       "vars_ = array([0.8       , 3.76666667, 1.1       ])\n",
       "use_var = 'equal'\n",
       "welch_correction = True\n",
       "tuple = (22.264705882352892, 3.237408550907782e-05)"
      ]
     },
     "execution_count": 58,
     "metadata": {},
     "output_type": "execute_result"
    }
   ],
   "source": [
    "# anovat test one way using statsmodel \n",
    "oneway.anova_oneway((machine_A, machine_B, machine_C), use_var='equal')"
   ]
  },
  {
   "cell_type": "markdown",
   "metadata": {},
   "source": [
    "**As p value is less than 0.05 thus rejected the null hypothesis.**"
   ]
  },
  {
   "cell_type": "markdown",
   "metadata": {},
   "source": [
    "### Post Hoc Tests\n",
    "- Post hoc test attempt to control the experimentwise error rate (usually alpha = 0.05) just like one-way ANOVA is used instead of multiple t-tests.\n",
    "- One popular test is Tukey's Test."
   ]
  },
  {
   "cell_type": "code",
   "execution_count": 59,
   "metadata": {},
   "outputs": [
    {
     "data": {
      "text/html": [
       "<div>\n",
       "<style scoped>\n",
       "    .dataframe tbody tr th:only-of-type {\n",
       "        vertical-align: middle;\n",
       "    }\n",
       "\n",
       "    .dataframe tbody tr th {\n",
       "        vertical-align: top;\n",
       "    }\n",
       "\n",
       "    .dataframe thead th {\n",
       "        text-align: right;\n",
       "    }\n",
       "</style>\n",
       "<table border=\"1\" class=\"dataframe\">\n",
       "  <thead>\n",
       "    <tr style=\"text-align: right;\">\n",
       "      <th></th>\n",
       "      <th>machine</th>\n",
       "      <th>volume</th>\n",
       "    </tr>\n",
       "  </thead>\n",
       "  <tbody>\n",
       "    <tr>\n",
       "      <th>15</th>\n",
       "      <td>Machine C</td>\n",
       "      <td>156</td>\n",
       "    </tr>\n",
       "    <tr>\n",
       "      <th>13</th>\n",
       "      <td>Machine C</td>\n",
       "      <td>154</td>\n",
       "    </tr>\n",
       "    <tr>\n",
       "      <th>6</th>\n",
       "      <td>Machine B</td>\n",
       "      <td>153</td>\n",
       "    </tr>\n",
       "    <tr>\n",
       "      <th>10</th>\n",
       "      <td>Machine B</td>\n",
       "      <td>149</td>\n",
       "    </tr>\n",
       "    <tr>\n",
       "      <th>2</th>\n",
       "      <td>Machine A</td>\n",
       "      <td>152</td>\n",
       "    </tr>\n",
       "  </tbody>\n",
       "</table>\n",
       "</div>"
      ],
      "text/plain": [
       "      machine  volume\n",
       "15  Machine C     156\n",
       "13  Machine C     154\n",
       "6   Machine B     153\n",
       "10  Machine B     149\n",
       "2   Machine A     152"
      ]
     },
     "execution_count": 59,
     "metadata": {},
     "output_type": "execute_result"
    }
   ],
   "source": [
    "machines = [(\"Machine A\", volume) for volume in machine_A] + \\\n",
    "            [(\"Machine B\", volume) for volume in machine_B] + \\\n",
    "            [(\"Machine C\", volume) for volume in machine_C]\n",
    "machines_df = pd.DataFrame(machines, columns=['machine','volume'])\n",
    "machines_df.sample(5)"
   ]
  },
  {
   "cell_type": "code",
   "execution_count": 60,
   "metadata": {},
   "outputs": [
    {
     "name": "stdout",
     "output_type": "stream",
     "text": [
      "   Multiple Comparison of Means - Tukey HSD, FWER=0.05   \n",
      "=========================================================\n",
      "  group1    group2  meandiff p-adj   lower  upper  reject\n",
      "---------------------------------------------------------\n",
      "Machine A Machine B  -0.1667  0.976 -2.2277 1.8944  False\n",
      "Machine A Machine C      4.5 0.0001  2.4389 6.5611   True\n",
      "Machine B Machine C   4.6667 0.0001  2.6056 6.7277   True\n",
      "---------------------------------------------------------\n"
     ]
    }
   ],
   "source": [
    "result = pairwise_tukeyhsd(endog=machines_df['volume'], groups=machines_df['machine'], alpha=0.05)\n",
    "print(result)"
   ]
  },
  {
   "cell_type": "code",
   "execution_count": 61,
   "metadata": {},
   "outputs": [
    {
     "data": {
      "text/plain": [
       "<seaborn.axisgrid.FacetGrid at 0x7fbb18f52ec0>"
      ]
     },
     "execution_count": 61,
     "metadata": {},
     "output_type": "execute_result"
    },
    {
     "data": {
      "image/png": "[encoded data removed]",
      "text/plain": [
       "<Figure size 360x360 with 1 Axes>"
      ]
     },
     "metadata": {},
     "output_type": "display_data"
    }
   ],
   "source": [
    "sns.catplot(data=machines_df, x='machine', y='volume', kind='box')"
   ]
  },
  {
   "cell_type": "markdown",
   "metadata": {},
   "source": [
    "### Goodness of Fit Test (Chi Square)\n",
    "- To test if the sample is coming from a population with specific distribution.\n",
    "- Other goodness-of-fit test are :\n",
    "    - Anderson-Darling\n",
    "    - Kolmogorov-Smirnov\n",
    "    \n",
    "- Null Hypothesis : The data follow a specified distribution\n",
    "- Alternative Hypothesis : The data do not follow the specified distribution\n",
    "- **Critical Statistics: Chi square for k-1 degrees of freedom for specific alpha.**"
   ]
  },
  {
   "cell_type": "markdown",
   "metadata": {},
   "source": [
    "##### Example :\n",
    "**A coin is flipped 100 times. Number of heads and tails are noted. Is this coin biased? Check with 95% Confidence Level. Observed numbers of Head and tail are 40 and 60 respectively**"
   ]
  },
  {
   "cell_type": "code",
   "execution_count": 62,
   "metadata": {},
   "outputs": [
    {
     "data": {
      "text/plain": [
       "Power_divergenceResult(statistic=4.0, pvalue=0.04550026389635857)"
      ]
     },
     "execution_count": 62,
     "metadata": {},
     "output_type": "execute_result"
    }
   ],
   "source": [
    "# Null hypothesis : Coin is not biased.\n",
    "# Alternative hypothesis : Coin is biased.\n",
    "# Alpha : 0.05\n",
    "expected = [50, 50]\n",
    "observed = [40, 60]\n",
    "stats.chisquare(observed, expected)"
   ]
  },
  {
   "cell_type": "markdown",
   "metadata": {},
   "source": [
    "**p value is less than 0.5 thus reject the null hypothesis.**"
   ]
  },
  {
   "cell_type": "markdown",
   "metadata": {},
   "source": [
    "## Contigency Tables\n",
    "- To find relationship between two discrete variables.\n",
    "- Null Hypothesis : There is no relationship between the row and column variables.\n",
    "- Alternative Hypothesis : There is a relationship. Alternative hypothesis does not tell what type of relationship exits."
   ]
  },
  {
   "cell_type": "code",
   "execution_count": 63,
   "metadata": {},
   "outputs": [],
   "source": [
    "# rows are different shifts and columns are operators\n",
    "# degrees of freedom will be (row - 1) * (column - 1)\n",
    "shift_and_operator = np.array([[22, 26, 23], [28, 62, 26], [72, 22, 66]])"
   ]
  },
  {
   "cell_type": "code",
   "execution_count": 64,
   "metadata": {},
   "outputs": [
    {
     "name": "stdout",
     "output_type": "stream",
     "text": [
      "Calculated chi square value : 50.09\n",
      "p value : 0.0\n",
      "Degrees of freedom : 4\n",
      "Expected value : \n",
      "[[24.96253602 22.50720461 23.53025937]\n",
      " [40.78386167 36.77233429 38.44380403]\n",
      " [56.25360231 50.7204611  53.0259366 ]]\n"
     ]
    }
   ],
   "source": [
    "chi_square_cal, p_value, degrees_freedom, expected_values = stats.chi2_contingency(shift_and_operator)\n",
    "print(f\"Calculated chi square value : {round(chi_square_cal, 2)}\")\n",
    "print(f\"p value : {round(p_value, 2)}\")\n",
    "print(f\"Degrees of freedom : {degrees_freedom}\")\n",
    "print(f\"Expected value : \\n{expected_values}\")"
   ]
  },
  {
   "cell_type": "markdown",
   "metadata": {},
   "source": [
    "**p value is less than 0.5 thus reject the null hypothesis.**"
   ]
  },
  {
   "cell_type": "code",
   "execution_count": null,
   "metadata": {},
   "outputs": [],
   "source": []
  }
 ],
 "metadata": {
  "kernelspec": {
   "display_name": "Python 3 (ipykernel)",
   "language": "python",
   "name": "python3"
  },
  "language_info": {
   "codemirror_mode": {
    "name": "ipython",
    "version": 3
   },
   "file_extension": ".py",
   "mimetype": "text/x-python",
   "name": "python",
   "nbconvert_exporter": "python",
   "pygments_lexer": "ipython3",
   "version": "3.10.6"
  },
  "vscode": {
   "interpreter": {
    "hash": "581205bd3fd03c21862a1560f3752200777c40f50ede1516ea55a7f9fbdb8291"
   }
  }
 },
 "nbformat": 4,
 "nbformat_minor": 2
}
